{
  "nbformat": 4,
  "nbformat_minor": 0,
  "metadata": {
    "colab": {
      "provenance": []
    },
    "kernelspec": {
      "name": "python3",
      "display_name": "Python 3"
    },
    "language_info": {
      "name": "python"
    }
  },
  "cells": [
    {
      "cell_type": "markdown",
      "source": [
        "# PYTHON PROGRAMMING ASSIGNMENT"
      ],
      "metadata": {
        "id": "URkC6X0vfsF9"
      }
    },
    {
      "cell_type": "markdown",
      "source": [
        "## Exercise 1: Prime Numbers\n",
        "Write a Python program that checks whether a given number is prime or not. A prime number is a natural number greater than 1 that has no positive divisors other than 1 and itself.\n"
      ],
      "metadata": {
        "id": "VVC2r2gWfwzk"
      }
    },
    {
      "cell_type": "code",
      "source": [
        "import numpy as np"
      ],
      "metadata": {
        "id": "QVBjgqUIgMxD"
      },
      "execution_count": 1,
      "outputs": []
    },
    {
      "cell_type": "code",
      "execution_count": 20,
      "metadata": {
        "id": "lPVtMTiFflXo"
      },
      "outputs": [],
      "source": [
        "# Function to check prime number\n",
        "def check_prime(num):\n",
        "    if num > 1:\n",
        "        '''if a number if not a prime i.e. composite, then there exists at least\n",
        "        one of its positive divisor other than 1, which is less than or equal\n",
        "        to its square root'''\n",
        "        for i in range(2, int(np.sqrt(num)+1)):\n",
        "            if (num % i) == 0:\n",
        "                print(num, \"is not a prime number\")\n",
        "                break\n",
        "        else:\n",
        "            print(num, \"is a prime number\")\n",
        "    else:\n",
        "        print(num, \"is not a prime number\")"
      ]
    },
    {
      "cell_type": "code",
      "source": [
        "# check prime number\n",
        "check_prime(int(input('Enter a Number:')))"
      ],
      "metadata": {
        "colab": {
          "base_uri": "https://localhost:8080/"
        },
        "id": "osZJmon3gb9d",
        "outputId": "6fcb3168-b303-4bad-83c5-eb0cb6467bdc"
      },
      "execution_count": 23,
      "outputs": [
        {
          "output_type": "stream",
          "name": "stdout",
          "text": [
            "Enter a Number:127\n",
            "127 is a prime number\n"
          ]
        }
      ]
    },
    {
      "cell_type": "markdown",
      "source": [
        "## Exercise 2: Product of Random Numbers\n",
        "Develop a Python program that generates two random numbers and asks the user to enter the product of these numbers. The program should then check if the user's answer is correct and display an appropriate message."
      ],
      "metadata": {
        "id": "pe3L3m74gpxE"
      }
    },
    {
      "cell_type": "code",
      "source": [
        "# Create two random numbers\n",
        "num1, num2 = np.random.randint(100, size=2)\n",
        "print(f'What is {num1} x {num2} ?')\n",
        "prod = input('= ')\n",
        "if(int(prod) == num1*num2):\n",
        "    print('Correct!')\n",
        "else:\n",
        "    print(f'Wrong! {num1} x {num2} = {num1*num2}')"
      ],
      "metadata": {
        "colab": {
          "base_uri": "https://localhost:8080/"
        },
        "id": "74vnSZuRgr2U",
        "outputId": "efb49d33-2122-46da-ec31-c732c2cfa986"
      },
      "execution_count": 7,
      "outputs": [
        {
          "output_type": "stream",
          "name": "stdout",
          "text": [
            "What is 28 x 90 ?\n",
            "= 150\n",
            "Wrong! 28 x 90 = 2520\n"
          ]
        }
      ]
    },
    {
      "cell_type": "markdown",
      "source": [
        "## Exercise 3: Squares of Even/Odd Numbers\n",
        "Create a Python script that prints the squares of all even or odd numbers within the range of 100 to 200. Choose either even or odd numbers and document your choice in the code."
      ],
      "metadata": {
        "id": "N8Jjt7zxh9-l"
      }
    },
    {
      "cell_type": "code",
      "source": [
        "choice = int(input('Enter 1 for even numbers or 2 for odd numbers: '))\n",
        "if(choice == 1):\n",
        "    print('number :    square')\n",
        "    for i in range(100, 201):\n",
        "        if(i%2 == 0):\n",
        "            print(i, '   :   ', i**2)\n",
        "elif(choice == 2):\n",
        "    print('number :    square')\n",
        "    for i in range(100, 201):\n",
        "        if(i%2 != 0):\n",
        "            print(i, '   :   ', i**2)\n",
        "else:\n",
        "    print('Invalid choice')"
      ],
      "metadata": {
        "colab": {
          "base_uri": "https://localhost:8080/"
        },
        "id": "rM89GNIoh_Z8",
        "outputId": "6a4ff8fb-4dac-4494-98ec-a3d02114cce1"
      },
      "execution_count": 8,
      "outputs": [
        {
          "output_type": "stream",
          "name": "stdout",
          "text": [
            "Enter 1 for even numbers or 2 for odd numbers: 1\n",
            "number :    square\n",
            "100    :    10000\n",
            "102    :    10404\n",
            "104    :    10816\n",
            "106    :    11236\n",
            "108    :    11664\n",
            "110    :    12100\n",
            "112    :    12544\n",
            "114    :    12996\n",
            "116    :    13456\n",
            "118    :    13924\n",
            "120    :    14400\n",
            "122    :    14884\n",
            "124    :    15376\n",
            "126    :    15876\n",
            "128    :    16384\n",
            "130    :    16900\n",
            "132    :    17424\n",
            "134    :    17956\n",
            "136    :    18496\n",
            "138    :    19044\n",
            "140    :    19600\n",
            "142    :    20164\n",
            "144    :    20736\n",
            "146    :    21316\n",
            "148    :    21904\n",
            "150    :    22500\n",
            "152    :    23104\n",
            "154    :    23716\n",
            "156    :    24336\n",
            "158    :    24964\n",
            "160    :    25600\n",
            "162    :    26244\n",
            "164    :    26896\n",
            "166    :    27556\n",
            "168    :    28224\n",
            "170    :    28900\n",
            "172    :    29584\n",
            "174    :    30276\n",
            "176    :    30976\n",
            "178    :    31684\n",
            "180    :    32400\n",
            "182    :    33124\n",
            "184    :    33856\n",
            "186    :    34596\n",
            "188    :    35344\n",
            "190    :    36100\n",
            "192    :    36864\n",
            "194    :    37636\n",
            "196    :    38416\n",
            "198    :    39204\n",
            "200    :    40000\n"
          ]
        }
      ]
    },
    {
      "cell_type": "markdown",
      "source": [
        "## Exercise 4: Word counter\n",
        "write a program to count the number of words in a given text."
      ],
      "metadata": {
        "id": "bFyW1RbKi7kE"
      }
    },
    {
      "cell_type": "code",
      "source": [
        "text = input('Enter a text: ')\n",
        "words = text.split()\n",
        "# create a list of words by ignoring the special characters\n",
        "words = [letter for letter in words if letter.isalnum()]\n",
        "words_done = [] #list to keep a track of which words are printed\n",
        "for word in words:\n",
        "    if(word not in words_done):\n",
        "        print(word, ':', words.count(word))\n",
        "        words_done.append(word)"
      ],
      "metadata": {
        "colab": {
          "base_uri": "https://localhost:8080/"
        },
        "id": "u3WW5JnYi9tE",
        "outputId": "9a8c51f0-9dac-462e-b274-08e4ecdba094"
      },
      "execution_count": 9,
      "outputs": [
        {
          "output_type": "stream",
          "name": "stdout",
          "text": [
            "Enter a text: This is a sample text. This text will be used to demonstrate the word counter.\n",
            "This : 2\n",
            "is : 1\n",
            "a : 1\n",
            "sample : 1\n",
            "text : 1\n",
            "will : 1\n",
            "be : 1\n",
            "used : 1\n",
            "to : 1\n",
            "demonstrate : 1\n",
            "the : 1\n",
            "word : 1\n"
          ]
        }
      ]
    },
    {
      "cell_type": "markdown",
      "source": [
        "## Exercise 5: Check for Palindrome\n",
        "Write a Python function called is_palindrome that takes a string as input and returns True if the string is a palindrome, and False otherwise. A palindrome is a word, phrase, number, or other sequence of characters that reads the same forward and backward, ignoring spaces, punctuation, and capitalization.\n",
        "Example:\n",
        "Input: \"racecar\"\n",
        "Expected Output: True"
      ],
      "metadata": {
        "id": "JQfB82SIlYW1"
      }
    },
    {
      "cell_type": "code",
      "source": [
        "def is_palindrome(string):\n",
        "    # create a list of letters by converting them into lower case and by ignoring the special characters\n",
        "    list_string = [letter.lower() for letter in string if letter.isalnum()]\n",
        "    if(list_string == list_string[::-1]): # check list from both sides\n",
        "        return True\n",
        "    else:\n",
        "        return False\n",
        "\n",
        "is_palindrome(input('Enter a string: '))"
      ],
      "metadata": {
        "colab": {
          "base_uri": "https://localhost:8080/"
        },
        "id": "vnb1sfr93QU8",
        "outputId": "c570080c-f83d-4a72-8db1-a988ecee17f4"
      },
      "execution_count": 19,
      "outputs": [
        {
          "name": "stdout",
          "output_type": "stream",
          "text": [
            "Enter a string: Niti n.\n"
          ]
        },
        {
          "output_type": "execute_result",
          "data": {
            "text/plain": [
              "True"
            ]
          },
          "metadata": {},
          "execution_count": 19
        }
      ]
    }
  ]
}